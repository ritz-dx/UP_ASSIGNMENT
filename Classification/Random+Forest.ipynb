{
 "cells": [
  {
   "cell_type": "code",
   "execution_count": 3,
   "metadata": {},
   "outputs": [],
   "source": [
    "# Importing the relevant libraries\n",
    "from pyspark.sql import SparkSession\n",
    "from pyspark.sql.functions import col\n",
    "from pyspark.ml.feature import StringIndexer, IndexToString\n",
    "from pyspark.ml.feature import RegexTokenizer\n",
    "from pyspark.ml.feature import StopWordsRemover\n",
    "from pyspark.sql.functions import desc\n",
    "from pyspark.ml.feature import HashingTF, IDF\n",
    "from pyspark.ml.classification import RandomForestClassifier\n",
    "from pyspark.ml import Pipeline\n",
    "from pyspark.ml.evaluation import MulticlassClassificationEvaluator"
   ]
  },
  {
   "cell_type": "code",
   "execution_count": 4,
   "metadata": {},
   "outputs": [],
   "source": [
    "MAX_MEMORY = \"5G\"\n",
    "spark = SparkSession.builder.appName('twitter').master(\"local[*]\").config(\"spark.executor.memoryOverhead\",MAX_MEMORY).config(\"spark.executor.memory\", MAX_MEMORY).config(\"spark.driver.memory\", MAX_MEMORY).getOrCreate()\n",
    "\n"
   ]
  },
  {
   "cell_type": "code",
   "execution_count": 5,
   "metadata": {},
   "outputs": [],
   "source": [
    "#Remember to add the path to your Amazon s3 bucket where you uploaded your dataset\n",
    "df = spark.read \\\n",
    "\t.format(\"csv\") \\\n",
    " \t.option(\"header\",\"true\") \\\n",
    " \t.option(\"mode\", \"DROPMALFORMED\") \\\n",
    " \t.option(\"inferSchema\", \"true\") \\\n",
    " \t.load(\"s3a://...your bucket name.../..your file name.csv\")"
   ]
  },
  {
   "cell_type": "code",
   "execution_count": 6,
   "metadata": {},
   "outputs": [
    {
     "name": "stdout",
     "output_type": "stream",
     "text": [
      "Rows count: 17426\n"
     ]
    }
   ],
   "source": [
    "# count after drop malformed records\n",
    "print(\"Rows count: {0}\".format(df.count()))"
   ]
  },
  {
   "cell_type": "code",
   "execution_count": 7,
   "metadata": {},
   "outputs": [
    {
     "name": "stdout",
     "output_type": "stream",
     "text": [
      "+---------+-------+-----------+------------------+-----------------+-------+-----------------+----------+---------------------+--------------+--------------------+----------+-----------+----------+---------------+---------------+--------------------+-------------+-------------+--------------------+-----------+-----------+--------------+----------+--------------------+--------------------+\n",
      "| _unit_id|_golden|_unit_state|_trusted_judgments|_last_judgment_at| gender|gender:confidence|profile_yn|profile_yn:confidence|       created|         description|fav_number|gender_gold|link_color|           name|profile_yn_gold|        profileimage|retweet_count|sidebar_color|                text|tweet_coord|tweet_count| tweet_created|  tweet_id|      tweet_location|       user_timezone|\n",
      "+---------+-------+-----------+------------------+-----------------+-------+-----------------+----------+---------------------+--------------+--------------------+----------+-----------+----------+---------------+---------------+--------------------+-------------+-------------+--------------------+-----------+-----------+--------------+----------+--------------------+--------------------+\n",
      "|815719226|  FALSE|  finalized|                 3|   10/26/15 23:24|   male|                1|       yes|                    1|  12/5/13 1:48|i sing my own rhy...|         0|       null|    08C2C2|        sheezy0|           null|https://pbs.twimg...|            0|       FFFFFF|Robbie E Responds...|       null|     110964|10/26/15 12:40|6.5873E+17|     main; @Kan1shk3|             Chennai|\n",
      "|815719227|  FALSE|  finalized|                 3|   10/26/15 23:30|   male|                1|       yes|                    1| 10/1/12 13:51|I'm the author of...|        68|       null|    0084B4|    DavdBurnett|           null|https://pbs.twimg...|            0|       C0DEED|���It felt like t...|       null|       7471|10/26/15 12:40|6.5873E+17|                null|Eastern Time (US ...|\n",
      "|815719228|  FALSE|  finalized|                 3|   10/26/15 23:33|   male|           0.6625|       yes|                    1|11/28/14 11:30|louis whining and...|      7696|       null|    ABB8C2| lwtprettylaugh|           null|https://pbs.twimg...|            1|       C0DEED|i absolutely ador...|       null|       5617|10/26/15 12:40|6.5873E+17|              clcncl|            Belgrade|\n",
      "|815719229|  FALSE|  finalized|                 3|   10/26/15 23:10|   male|                1|       yes|                    1| 6/11/09 22:39|Mobile guy.  49er...|       202|       null|    0084B4|    douggarland|           null|https://pbs.twimg...|            0|       C0DEED|Hi @JordanSpieth ...|       null|       1693|10/26/15 12:40|6.5873E+17|       Palo Alto, CA|Pacific Time (US ...|\n",
      "|815719230|  FALSE|  finalized|                 3|    10/27/15 1:15| female|                1|       yes|                    1| 4/16/14 13:23|Ricky Wilson The ...|     37318|       null|    3B94D9|   WilfordGemma|           null|https://pbs.twimg...|            0|            0|Watching Neighbou...|       null|      31462|10/26/15 12:40|6.5873E+17|                null|                null|\n",
      "|815719231|  FALSE|  finalized|                 3|    10/27/15 1:47| female|                1|       yes|                    1| 3/11/10 18:14|  you don't know me.|      3901|       null|    F5ABB5|  monroevicious|           null|https://pbs.twimg...|            0|            0|Ive seen people o...|       null|      20036|10/26/15 12:40|6.5873E+17|     New York Gritty|Central Time (US ...|\n",
      "|815719232|  FALSE|  finalized|                 3|    10/27/15 1:57|  brand|                1|       yes|                    1| 4/24/08 13:03|A global marketpl...|      4122|       null|    298AAE|   Shutterstock|           null|https://pbs.twimg...|            0|            0|@BpackEngineer Th...|       null|      13354|10/26/15 12:40|6.5873E+17|           Worldwide|Eastern Time (US ...|\n",
      "|815719233|  FALSE|  finalized|                 3|   10/26/15 23:48|   male|                1|       yes|                    1| 12/3/12 21:54|The secret of get...|        80|       null|    0000FF|     RobinMeske|           null|https://pbs.twimg...|            0|       C0DEED|Gala Bingo clubs ...|       null|     112117|10/26/15 12:40|6.5873E+17|                null|                null|\n",
      "|815719234|  FALSE|  finalized|                 3|    10/27/15 1:52| female|                1|       yes|                    1|   9/8/15 4:50|Pll Fan // Crazy ...|      1825|       null|    9266CC|      pigzilla_|           null|https://pbs.twimg...|            0|            0|@_Aphmau_ the pic...|       null|        482|10/26/15 12:40|6.5873E+17|                null|                null|\n",
      "|815719235|  FALSE|  finalized|                 3|    10/27/15 1:49| female|                1|       yes|                    1|  5/13/11 3:32|Renaissance art h...|      3115|       null|    9266CC|  GabrieleNeher|           null|https://pbs.twimg...|            0|       FFFFFF|@Evielady just ho...|       null|      26085|10/26/15 12:40|6.5873E+17|Nottingham, England.|           Amsterdam|\n",
      "|815719236|  FALSE|  finalized|                 3|   10/26/15 23:17|  brand|           0.7002|       yes|                    1|11/16/11 17:14|Clean food that t...|       516|       null|    0084B4|  Blissful_Eats|           null|https://pbs.twimg...|            0|       C0DEED|how are you takin...|       null|       5179|10/26/15 12:40|6.5873E+17|            New York|Atlantic Time (Ca...|\n",
      "|815719237|  FALSE|  finalized|                 3|   10/26/15 22:33|  brand|                1|       yes|                    1| 2/22/15 20:06|highly extraordin...|         0|       null|    0084B4|   eliseotecleo|           null|https://pbs.twimg...|            0|       C0DEED|MTG Deals 1x Rank...|       null|      66684|10/26/15 12:40|6.5873E+17|                null|Pacific Time (US ...|\n",
      "|815719238|  FALSE|  finalized|                 3|   10/26/15 22:20| female|           0.6509|       yes|                    1|  8/10/12 5:05|Senior '16 . XI-X...|      3371|       null|    0084B4| kaylanabrewer_|           null|https://pbs.twimg...|            0|       FFFFFF|Just put my ass o...|       null|      13585|10/26/15 12:40|6.5873E+17|                null|Atlantic Time (Ca...|\n",
      "|815719239|  FALSE|  finalized|                 3|   10/26/15 23:29|  brand|                1|       yes|                    1|  5/1/12 22:14|Come join the fas...|         0|       null|    2FC2EF|  americacredit|           null|https://pbs.twimg...|            0|       181A1E|https://t.co/z4sb...|       null|     199466|10/26/15 12:40|6.5873E+17|      America Credit|Pacific Time (US ...|\n",
      "|815719240|  FALSE|  finalized|                 3|    10/27/15 1:29| female|           0.6501|       yes|                    1|  4/6/13 15:31|im just here for ...|     13928|       null|    0084B4|       cheyflan|           null|https://pbs.twimg...|            0|       FFFFFF|will i even need ...|       null|      18469|10/26/15 12:40|6.5873E+17|      row b seat 104|Atlantic Time (Ca...|\n",
      "|815719241|  FALSE|  finalized|                 3|    10/27/15 1:50| female|                1|       yes|                    1| 10/3/15 21:32|                null|         0|       null|    0084B4|      Ayu7sith4|           null|https://pbs.twimg...|            0|       C0DEED|https://t.co/EROG...|       null|      44421|10/26/15 12:40|6.5873E+17|                null|                null|\n",
      "|815719242|  FALSE|  finalized|                 3|   10/26/15 23:43| female|                1|       yes|                    1|  8/27/11 9:42|           JMKM�_ҕ��|      1762|       null|     58185|   Toucaan_Samm|           null|https://pbs.twimg...|            0|       EEEEEE|@giannaaa28 lmao ...|       null|      16627|10/26/15 12:40|6.5873E+17|                null|             Arizona|\n",
      "|815719243|  FALSE|  finalized|                 3|   10/26/15 22:50|   male|                1|       yes|                    1|10/18/09 11:41|Over enthusiastic...|         5|       null|    0084B4|     SSmyth2010|           null|https://pbs.twimg...|            0|       C0DEED|@coolyazzy94 Ditt...|       null|         91|10/26/15 12:40|6.5873E+17|             Glasgow|              London|\n",
      "|815719244|  FALSE|  finalized|                 3|    10/27/15 1:42|   male|                1|       yes|                    1| 7/20/15 12:01|                null|         1|       null|    0084B4|DarkToonsGaming|           null|https://pbs.twimg...|            0|       C0DEED|@CaribBros @JstSa...|       null|         13|10/26/15 12:40|6.5873E+17|                null|                null|\n",
      "|815719245|  FALSE|  finalized|                 3|   10/26/15 22:19|unknown|           0.3527|       yes|                    1|  1/30/15 9:52|                null|       160|       null|    0084B4|    GourlayLynn|           null|https://pbs.twimg...|            0|            0|Me too, saw five ...|       null|       2398|10/26/15 12:40|6.5873E+17|                null|                null|\n",
      "+---------+-------+-----------+------------------+-----------------+-------+-----------------+----------+---------------------+--------------+--------------------+----------+-----------+----------+---------------+---------------+--------------------+-------------+-------------+--------------------+-----------+-----------+--------------+----------+--------------------+--------------------+\n",
      "only showing top 20 rows\n",
      "\n"
     ]
    }
   ],
   "source": [
    "df.show()"
   ]
  },
  {
   "cell_type": "code",
   "execution_count": 8,
   "metadata": {},
   "outputs": [],
   "source": [
    "df = df.filter(col(\"gender\").isin(['male','female','brand'])).select(\"_unit_id\",\"gender\",\"description\")"
   ]
  },
  {
   "cell_type": "code",
   "execution_count": 9,
   "metadata": {},
   "outputs": [
    {
     "name": "stdout",
     "output_type": "stream",
     "text": [
      "+---------+------+--------------------+\n",
      "| _unit_id|gender|         description|\n",
      "+---------+------+--------------------+\n",
      "|815719226|  male|i sing my own rhy...|\n",
      "|815719227|  male|I'm the author of...|\n",
      "|815719228|  male|louis whining and...|\n",
      "|815719229|  male|Mobile guy.  49er...|\n",
      "|815719230|female|Ricky Wilson The ...|\n",
      "|815719231|female|  you don't know me.|\n",
      "|815719232| brand|A global marketpl...|\n",
      "|815719233|  male|The secret of get...|\n",
      "|815719234|female|Pll Fan // Crazy ...|\n",
      "|815719235|female|Renaissance art h...|\n",
      "|815719236| brand|Clean food that t...|\n",
      "|815719237| brand|highly extraordin...|\n",
      "|815719238|female|Senior '16 . XI-X...|\n",
      "|815719239| brand|Come join the fas...|\n",
      "|815719240|female|im just here for ...|\n",
      "|815719241|female|                null|\n",
      "|815719242|female|           JMKM�_ҕ��|\n",
      "|815719243|  male|Over enthusiastic...|\n",
      "|815719244|  male|                null|\n",
      "|815719246|female|Artisan specializ...|\n",
      "+---------+------+--------------------+\n",
      "only showing top 20 rows\n",
      "\n",
      "Rows count after filtering unknown gender: 16412\n"
     ]
    }
   ],
   "source": [
    "df.show()\n",
    "# count after drop malformed records\n",
    "print(\"Rows count after filtering unknown gender: {0}\".format(df.count()))"
   ]
  },
  {
   "cell_type": "code",
   "execution_count": 10,
   "metadata": {},
   "outputs": [
    {
     "name": "stdout",
     "output_type": "stream",
     "text": [
      "Rows count per gender\n",
      "+------+-----+\n",
      "|gender|count|\n",
      "+------+-----+\n",
      "|female| 5867|\n",
      "| brand| 5175|\n",
      "|  male| 5370|\n",
      "+------+-----+\n",
      "\n"
     ]
    }
   ],
   "source": [
    "print(\"Rows count per gender\")\n",
    "df.groupby(\"gender\").count().show()"
   ]
  },
  {
   "cell_type": "code",
   "execution_count": 11,
   "metadata": {},
   "outputs": [],
   "source": [
    "# dropping the rows if description is null\n",
    "final_df = df.filter(col(\"description\").isNotNull())"
   ]
  },
  {
   "cell_type": "code",
   "execution_count": 12,
   "metadata": {},
   "outputs": [
    {
     "name": "stdout",
     "output_type": "stream",
     "text": [
      "**** RAW dataframe ****\n",
      "+---------+------+--------------------+\n",
      "| _unit_id|gender|         description|\n",
      "+---------+------+--------------------+\n",
      "|815719226|  male|i sing my own rhy...|\n",
      "|815719227|  male|I'm the author of...|\n",
      "|815719228|  male|louis whining and...|\n",
      "|815719229|  male|Mobile guy.  49er...|\n",
      "|815719230|female|Ricky Wilson The ...|\n",
      "|815719231|female|  you don't know me.|\n",
      "|815719232| brand|A global marketpl...|\n",
      "|815719233|  male|The secret of get...|\n",
      "|815719234|female|Pll Fan // Crazy ...|\n",
      "|815719235|female|Renaissance art h...|\n",
      "|815719236| brand|Clean food that t...|\n",
      "|815719237| brand|highly extraordin...|\n",
      "|815719238|female|Senior '16 . XI-X...|\n",
      "|815719239| brand|Come join the fas...|\n",
      "|815719240|female|im just here for ...|\n",
      "|815719242|female|           JMKM�_ҕ��|\n",
      "|815719243|  male|Over enthusiastic...|\n",
      "|815719246|female|Artisan specializ...|\n",
      "|815719247|female|He bled and died ...|\n",
      "|815719248|female|        union j xxxx|\n",
      "+---------+------+--------------------+\n",
      "only showing top 20 rows\n",
      "\n",
      "Rows count after filtering invalid description: 13431\n"
     ]
    }
   ],
   "source": [
    "print(\"**** RAW dataframe ****\")\n",
    "final_df.show()\n",
    "# count after drop malformed records\n",
    "print(\"Rows count after filtering invalid description: {0}\".format(final_df.count()))"
   ]
  },
  {
   "cell_type": "code",
   "execution_count": 13,
   "metadata": {},
   "outputs": [],
   "source": [
    "# add indexer to transfrom genders into numerical values. Here String Indexer is used\n",
    "indexer = StringIndexer(inputCol=\"gender\", outputCol=\"labels\").fit(final_df)"
   ]
  },
  {
   "cell_type": "code",
   "execution_count": 14,
   "metadata": {},
   "outputs": [],
   "source": [
    "indexed = indexer.transform(final_df)"
   ]
  },
  {
   "cell_type": "code",
   "execution_count": 15,
   "metadata": {},
   "outputs": [
    {
     "name": "stdout",
     "output_type": "stream",
     "text": [
      "**** RAW dataframe with String indexer ****\n",
      "+---------+------+--------------------+------+\n",
      "| _unit_id|gender|         description|labels|\n",
      "+---------+------+--------------------+------+\n",
      "|815719226|  male|i sing my own rhy...|   1.0|\n",
      "|815719227|  male|I'm the author of...|   1.0|\n",
      "|815719228|  male|louis whining and...|   1.0|\n",
      "|815719229|  male|Mobile guy.  49er...|   1.0|\n",
      "|815719230|female|Ricky Wilson The ...|   0.0|\n",
      "|815719231|female|  you don't know me.|   0.0|\n",
      "|815719232| brand|A global marketpl...|   2.0|\n",
      "|815719233|  male|The secret of get...|   1.0|\n",
      "|815719234|female|Pll Fan // Crazy ...|   0.0|\n",
      "|815719235|female|Renaissance art h...|   0.0|\n",
      "|815719236| brand|Clean food that t...|   2.0|\n",
      "|815719237| brand|highly extraordin...|   2.0|\n",
      "|815719238|female|Senior '16 . XI-X...|   0.0|\n",
      "|815719239| brand|Come join the fas...|   2.0|\n",
      "|815719240|female|im just here for ...|   0.0|\n",
      "|815719242|female|           JMKM�_ҕ��|   0.0|\n",
      "|815719243|  male|Over enthusiastic...|   1.0|\n",
      "|815719246|female|Artisan specializ...|   0.0|\n",
      "|815719247|female|He bled and died ...|   0.0|\n",
      "|815719248|female|        union j xxxx|   0.0|\n",
      "+---------+------+--------------------+------+\n",
      "only showing top 20 rows\n",
      "\n"
     ]
    }
   ],
   "source": [
    "print(\"**** RAW dataframe with String indexer ****\")\n",
    "indexed.show()"
   ]
  },
  {
   "cell_type": "code",
   "execution_count": 16,
   "metadata": {},
   "outputs": [],
   "source": [
    "TOTAL = indexed.count()\n",
    "TRAIN = 0.75\n",
    "TEST = 0.25"
   ]
  },
  {
   "cell_type": "code",
   "execution_count": 17,
   "metadata": {},
   "outputs": [],
   "source": [
    "train = indexed.limit(int(TOTAL*TRAIN))\n",
    "test = indexed.orderBy(desc(\"_unit_id\")).limit(int(TOTAL*TEST))"
   ]
  },
  {
   "cell_type": "code",
   "execution_count": 18,
   "metadata": {},
   "outputs": [
    {
     "name": "stdout",
     "output_type": "stream",
     "text": [
      "Total data count 13431\n",
      "Training data count 10073\n",
      "Test data count 3357\n"
     ]
    }
   ],
   "source": [
    "print(\"Total data count {0}\".format(TOTAL))\n",
    "print(\"Training data count {0}\".format(train.count()))\n",
    "print(\"Test data count {0}\".format(test.count()))"
   ]
  },
  {
   "cell_type": "code",
   "execution_count": 19,
   "metadata": {},
   "outputs": [],
   "source": [
    "# RegexTokenizer allows more advanced tokenization based on regular expression (regex) matching\n",
    "regexTokenizer = RegexTokenizer(inputCol=\"description\", outputCol=\"words\", pattern=\"\\\\W\")"
   ]
  },
  {
   "cell_type": "code",
   "execution_count": 20,
   "metadata": {},
   "outputs": [
    {
     "name": "stdout",
     "output_type": "stream",
     "text": [
      "**** RAW dataframe with tokenized ****\n",
      "+---------+------+--------------------+------+--------------------+\n",
      "| _unit_id|gender|         description|labels|               words|\n",
      "+---------+------+--------------------+------+--------------------+\n",
      "|815719226|  male|i sing my own rhy...|   1.0|[i, sing, my, own...|\n",
      "|815719227|  male|I'm the author of...|   1.0|[i, m, the, autho...|\n",
      "|815719228|  male|louis whining and...|   1.0|[louis, whining, ...|\n",
      "|815719229|  male|Mobile guy.  49er...|   1.0|[mobile, guy, 49e...|\n",
      "|815719230|female|Ricky Wilson The ...|   0.0|[ricky, wilson, t...|\n",
      "|815719231|female|  you don't know me.|   0.0|[you, don, t, kno...|\n",
      "|815719232| brand|A global marketpl...|   2.0|[a, global, marke...|\n",
      "|815719233|  male|The secret of get...|   1.0|[the, secret, of,...|\n",
      "|815719234|female|Pll Fan // Crazy ...|   0.0|[pll, fan, crazy,...|\n",
      "|815719235|female|Renaissance art h...|   0.0|[renaissance, art...|\n",
      "|815719236| brand|Clean food that t...|   2.0|[clean, food, tha...|\n",
      "|815719237| brand|highly extraordin...|   2.0|[highly, extraord...|\n",
      "|815719238|female|Senior '16 . XI-X...|   0.0|[senior, 16, xi, ...|\n",
      "|815719239| brand|Come join the fas...|   2.0|[come, join, the,...|\n",
      "|815719240|female|im just here for ...|   0.0|[im, just, here, ...|\n",
      "|815719242|female|           JMKM�_ҕ��|   0.0|           [jmkm, _]|\n",
      "|815719243|  male|Over enthusiastic...|   1.0|[over, enthusiast...|\n",
      "|815719246|female|Artisan specializ...|   0.0|[artisan, special...|\n",
      "|815719247|female|He bled and died ...|   0.0|[he, bled, and, d...|\n",
      "|815719248|female|        union j xxxx|   0.0|    [union, j, xxxx]|\n",
      "+---------+------+--------------------+------+--------------------+\n",
      "only showing top 20 rows\n",
      "\n"
     ]
    }
   ],
   "source": [
    "regexTokenized = regexTokenizer.transform(train)\n",
    "print(\"**** RAW dataframe with tokenized ****\")\n",
    "regexTokenized.show()"
   ]
  },
  {
   "cell_type": "markdown",
   "metadata": {},
   "source": [
    "Stop words are words which should be excluded from the input, typically because the words appear frequently and don’t carry as much meaning.\n",
    "StopWordsRemover takes as input a sequence of strings (e.g. the output of a Tokenizer) and drops all the stop words from the input sequences."
   ]
  },
  {
   "cell_type": "code",
   "execution_count": 21,
   "metadata": {},
   "outputs": [],
   "source": [
    "stop_words_remover = StopWordsRemover(inputCol=\"words\", outputCol=\"filtered_words\")"
   ]
  },
  {
   "cell_type": "code",
   "execution_count": 22,
   "metadata": {},
   "outputs": [
    {
     "name": "stdout",
     "output_type": "stream",
     "text": [
      "**** RAW dataframe after emoving stop words ****\n",
      "+---------+------+--------------------+------+--------------------+--------------------+\n",
      "| _unit_id|gender|         description|labels|               words|      filtered_words|\n",
      "+---------+------+--------------------+------+--------------------+--------------------+\n",
      "|815719226|  male|i sing my own rhy...|   1.0|[i, sing, my, own...|      [sing, rhythm]|\n",
      "|815719227|  male|I'm the author of...|   1.0|[i, m, the, autho...|[m, author, novel...|\n",
      "|815719228|  male|louis whining and...|   1.0|[louis, whining, ...|[louis, whining, ...|\n",
      "|815719229|  male|Mobile guy.  49er...|   1.0|[mobile, guy, 49e...|[mobile, guy, 49e...|\n",
      "|815719230|female|Ricky Wilson The ...|   0.0|[ricky, wilson, t...|[ricky, wilson, b...|\n",
      "|815719231|female|  you don't know me.|   0.0|[you, don, t, kno...|              [know]|\n",
      "|815719232| brand|A global marketpl...|   2.0|[a, global, marke...|[global, marketpl...|\n",
      "|815719233|  male|The secret of get...|   1.0|[the, secret, of,...|[secret, getting,...|\n",
      "|815719234|female|Pll Fan // Crazy ...|   0.0|[pll, fan, crazy,...|[pll, fan, crazy,...|\n",
      "|815719235|female|Renaissance art h...|   0.0|[renaissance, art...|[renaissance, art...|\n",
      "|815719236| brand|Clean food that t...|   2.0|[clean, food, tha...|[clean, food, tas...|\n",
      "|815719237| brand|highly extraordin...|   2.0|[highly, extraord...|[highly, extraord...|\n",
      "|815719238|female|Senior '16 . XI-X...|   0.0|[senior, 16, xi, ...|[senior, 16, xi, ...|\n",
      "|815719239| brand|Come join the fas...|   2.0|[come, join, the,...|[come, join, fast...|\n",
      "|815719240|female|im just here for ...|   0.0|[im, just, here, ...|[im, p, bo, burnh...|\n",
      "|815719242|female|           JMKM�_ҕ��|   0.0|           [jmkm, _]|           [jmkm, _]|\n",
      "|815719243|  male|Over enthusiastic...|   1.0|[over, enthusiast...|[enthusiastic, f1...|\n",
      "|815719246|female|Artisan specializ...|   0.0|[artisan, special...|[artisan, special...|\n",
      "|815719247|female|He bled and died ...|   0.0|[he, bled, and, d...|[bled, died, take...|\n",
      "|815719248|female|        union j xxxx|   0.0|    [union, j, xxxx]|    [union, j, xxxx]|\n",
      "+---------+------+--------------------+------+--------------------+--------------------+\n",
      "only showing top 20 rows\n",
      "\n"
     ]
    }
   ],
   "source": [
    "removed = stop_words_remover.transform(regexTokenized)\n",
    "print(\"**** RAW dataframe after emoving stop words ****\")\n",
    "removed.show()"
   ]
  },
  {
   "cell_type": "markdown",
   "metadata": {},
   "source": [
    "HashingTF is a Transformer which takes sets of terms and converts those sets into fixed-length feature vectors. In text processing, a “set of terms” might be a bag of words. HashingTF utilizes the hashing trick. A raw feature is mapped into an index (term) by applying a hash function"
   ]
  },
  {
   "cell_type": "code",
   "execution_count": 23,
   "metadata": {},
   "outputs": [],
   "source": [
    "hashing_tf = HashingTF(inputCol=\"filtered_words\", outputCol=\"raw_features\").setNumFeatures(11000)"
   ]
  },
  {
   "cell_type": "code",
   "execution_count": 24,
   "metadata": {},
   "outputs": [
    {
     "name": "stdout",
     "output_type": "stream",
     "text": [
      "+---------+------+--------------------+------+--------------------+--------------------+--------------------+\n",
      "| _unit_id|gender|         description|labels|               words|      filtered_words|        raw_features|\n",
      "+---------+------+--------------------+------+--------------------+--------------------+--------------------+\n",
      "|815719226|  male|i sing my own rhy...|   1.0|[i, sing, my, own...|      [sing, rhythm]|(11000,[8809,9451...|\n",
      "|815719227|  male|I'm the author of...|   1.0|[i, m, the, autho...|[m, author, novel...|(11000,[873,978,2...|\n",
      "|815719228|  male|louis whining and...|   1.0|[louis, whining, ...|[louis, whining, ...|(11000,[1000,2314...|\n",
      "|815719229|  male|Mobile guy.  49er...|   1.0|[mobile, guy, 49e...|[mobile, guy, 49e...|(11000,[464,929,9...|\n",
      "|815719230|female|Ricky Wilson The ...|   0.0|[ricky, wilson, t...|[ricky, wilson, b...|(11000,[1040,1215...|\n",
      "|815719231|female|  you don't know me.|   0.0|[you, don, t, kno...|              [know]|(11000,[9779],[1.0])|\n",
      "|815719232| brand|A global marketpl...|   2.0|[a, global, marke...|[global, marketpl...|(11000,[82,1566,1...|\n",
      "|815719233|  male|The secret of get...|   1.0|[the, secret, of,...|[secret, getting,...|(11000,[6607,7192...|\n",
      "|815719234|female|Pll Fan // Crazy ...|   0.0|[pll, fan, crazy,...|[pll, fan, crazy,...|(11000,[1206,2563...|\n",
      "|815719235|female|Renaissance art h...|   0.0|[renaissance, art...|[renaissance, art...|(11000,[2099,2510...|\n",
      "|815719236| brand|Clean food that t...|   2.0|[clean, food, tha...|[clean, food, tas...|(11000,[96,1260,2...|\n",
      "|815719237| brand|highly extraordin...|   2.0|[highly, extraord...|[highly, extraord...|(11000,[2012,5408...|\n",
      "|815719238|female|Senior '16 . XI-X...|   0.0|[senior, 16, xi, ...|[senior, 16, xi, ...|(11000,[2991,5808...|\n",
      "|815719239| brand|Come join the fas...|   2.0|[come, join, the,...|[come, join, fast...|(11000,[207,1000,...|\n",
      "|815719240|female|im just here for ...|   0.0|[im, just, here, ...|[im, p, bo, burnh...|(11000,[1682,2503...|\n",
      "|815719242|female|           JMKM�_ҕ��|   0.0|           [jmkm, _]|           [jmkm, _]|(11000,[589,7456]...|\n",
      "|815719243|  male|Over enthusiastic...|   1.0|[over, enthusiast...|[enthusiastic, f1...|(11000,[322,2563,...|\n",
      "|815719246|female|Artisan specializ...|   0.0|[artisan, special...|[artisan, special...|(11000,[827,2233,...|\n",
      "|815719247|female|He bled and died ...|   0.0|[he, bled, and, d...|[bled, died, take...|(11000,[855,2148,...|\n",
      "|815719248|female|        union j xxxx|   0.0|    [union, j, xxxx]|    [union, j, xxxx]|(11000,[3194,5149...|\n",
      "+---------+------+--------------------+------+--------------------+--------------------+--------------------+\n",
      "only showing top 20 rows\n",
      "\n"
     ]
    }
   ],
   "source": [
    "ht_df = hashing_tf.transform(removed)\n",
    "ht_df.show()"
   ]
  },
  {
   "cell_type": "markdown",
   "metadata": {},
   "source": [
    " IDF is an Estimator which is fit on a dataset and produces an IDFModel. \n",
    " The IDFModel takes feature vectors (generally created from HashingTF or CountVectorizer) and scales each feature. \n",
    " Intuitively, it down-weights features which appear frequently in a corpus."
   ]
  },
  {
   "cell_type": "code",
   "execution_count": 25,
   "metadata": {},
   "outputs": [],
   "source": [
    "idf = IDF(inputCol=\"raw_features\", outputCol=\"features\")"
   ]
  },
  {
   "cell_type": "code",
   "execution_count": 26,
   "metadata": {},
   "outputs": [
    {
     "name": "stdout",
     "output_type": "stream",
     "text": [
      "**** RAW dataframe after adding idf and hashingtf ****\n",
      "+---------+------+--------------------+------+--------------------+--------------------+--------------------+--------------------+\n",
      "| _unit_id|gender|         description|labels|               words|      filtered_words|        raw_features|            features|\n",
      "+---------+------+--------------------+------+--------------------+--------------------+--------------------+--------------------+\n",
      "|815719226|  male|i sing my own rhy...|   1.0|[i, sing, my, own...|      [sing, rhythm]|(11000,[8809,9451...|(11000,[8809,9451...|\n",
      "|815719227|  male|I'm the author of...|   1.0|[i, m, the, autho...|[m, author, novel...|(11000,[873,978,2...|(11000,[873,978,2...|\n",
      "|815719228|  male|louis whining and...|   1.0|[louis, whining, ...|[louis, whining, ...|(11000,[1000,2314...|(11000,[1000,2314...|\n",
      "|815719229|  male|Mobile guy.  49er...|   1.0|[mobile, guy, 49e...|[mobile, guy, 49e...|(11000,[464,929,9...|(11000,[464,929,9...|\n",
      "|815719230|female|Ricky Wilson The ...|   0.0|[ricky, wilson, t...|[ricky, wilson, b...|(11000,[1040,1215...|(11000,[1040,1215...|\n",
      "|815719231|female|  you don't know me.|   0.0|[you, don, t, kno...|              [know]|(11000,[9779],[1.0])|(11000,[9779],[4....|\n",
      "|815719232| brand|A global marketpl...|   2.0|[a, global, marke...|[global, marketpl...|(11000,[82,1566,1...|(11000,[82,1566,1...|\n",
      "|815719233|  male|The secret of get...|   1.0|[the, secret, of,...|[secret, getting,...|(11000,[6607,7192...|(11000,[6607,7192...|\n",
      "|815719234|female|Pll Fan // Crazy ...|   0.0|[pll, fan, crazy,...|[pll, fan, crazy,...|(11000,[1206,2563...|(11000,[1206,2563...|\n",
      "|815719235|female|Renaissance art h...|   0.0|[renaissance, art...|[renaissance, art...|(11000,[2099,2510...|(11000,[2099,2510...|\n",
      "|815719236| brand|Clean food that t...|   2.0|[clean, food, tha...|[clean, food, tas...|(11000,[96,1260,2...|(11000,[96,1260,2...|\n",
      "|815719237| brand|highly extraordin...|   2.0|[highly, extraord...|[highly, extraord...|(11000,[2012,5408...|(11000,[2012,5408...|\n",
      "|815719238|female|Senior '16 . XI-X...|   0.0|[senior, 16, xi, ...|[senior, 16, xi, ...|(11000,[2991,5808...|(11000,[2991,5808...|\n",
      "|815719239| brand|Come join the fas...|   2.0|[come, join, the,...|[come, join, fast...|(11000,[207,1000,...|(11000,[207,1000,...|\n",
      "|815719240|female|im just here for ...|   0.0|[im, just, here, ...|[im, p, bo, burnh...|(11000,[1682,2503...|(11000,[1682,2503...|\n",
      "|815719242|female|           JMKM�_ҕ��|   0.0|           [jmkm, _]|           [jmkm, _]|(11000,[589,7456]...|(11000,[589,7456]...|\n",
      "|815719243|  male|Over enthusiastic...|   1.0|[over, enthusiast...|[enthusiastic, f1...|(11000,[322,2563,...|(11000,[322,2563,...|\n",
      "|815719246|female|Artisan specializ...|   0.0|[artisan, special...|[artisan, special...|(11000,[827,2233,...|(11000,[827,2233,...|\n",
      "|815719247|female|He bled and died ...|   0.0|[he, bled, and, d...|[bled, died, take...|(11000,[855,2148,...|(11000,[855,2148,...|\n",
      "|815719248|female|        union j xxxx|   0.0|    [union, j, xxxx]|    [union, j, xxxx]|(11000,[3194,5149...|(11000,[3194,5149...|\n",
      "+---------+------+--------------------+------+--------------------+--------------------+--------------------+--------------------+\n",
      "only showing top 20 rows\n",
      "\n"
     ]
    }
   ],
   "source": [
    "idfmodel = idf.fit(ht_df)\n",
    "idf_df = idfmodel.transform(ht_df)\n",
    "print(\"**** RAW dataframe after adding idf and hashingtf ****\")\n",
    "idf_df.show()"
   ]
  },
  {
   "cell_type": "code",
   "execution_count": 27,
   "metadata": {},
   "outputs": [],
   "source": [
    "# Train a RandomForest model.\n",
    "rf = RandomForestClassifier(\n",
    "\t\tlabelCol=\"labels\", \n",
    "\t\tfeaturesCol=\"features\", \n",
    "\t\timpurity='gini',\n",
    "\t\tmaxDepth=12,\n",
    "\t\tnumTrees=256,\n",
    "\t\tfeatureSubsetStrategy='auto',\n",
    "\t\tseed=5043)"
   ]
  },
  {
   "cell_type": "code",
   "execution_count": 28,
   "metadata": {},
   "outputs": [],
   "source": [
    "# Convert indexed labels back to original labels.\n",
    "labelConverter = IndexToString(inputCol=\"prediction\", outputCol=\"predictedLabel\",\n",
    "                               labels=indexer.labels)"
   ]
  },
  {
   "cell_type": "code",
   "execution_count": 29,
   "metadata": {},
   "outputs": [],
   "source": [
    "# create pipeline of all the transformations \n",
    "pipeline = Pipeline(stages=[regexTokenizer, stop_words_remover, hashing_tf, idf, rf, labelConverter])"
   ]
  },
  {
   "cell_type": "code",
   "execution_count": 30,
   "metadata": {},
   "outputs": [],
   "source": [
    "# Train model.  This also runs the indexers.\n",
    "model=pipeline.fit(train)"
   ]
  },
  {
   "cell_type": "code",
   "execution_count": 31,
   "metadata": {},
   "outputs": [],
   "source": [
    "# Make predictions.\n",
    "predictions = model.transform(test)"
   ]
  },
  {
   "cell_type": "code",
   "execution_count": 32,
   "metadata": {},
   "outputs": [
    {
     "name": "stdout",
     "output_type": "stream",
     "text": [
      "**** Prediction on test data with MODEL RandomForestClassifier ****\n",
      "+---------+------+--------------------+----------+--------------+\n",
      "| _unit_id|gender|         description|prediction|predictedLabel|\n",
      "+---------+------+--------------------+----------+--------------+\n",
      "|815757985|female|Teamwork makes th...|       0.0|        female|\n",
      "|815757921|female|Anti-statist; I h...|       0.0|        female|\n",
      "|815757830|  male|#TeamBarcelona .....|       0.0|        female|\n",
      "|815757681|  male|Whatever you like...|       0.0|        female|\n",
      "|815757572|female|                (rp)|       0.0|        female|\n",
      "|815756767|female|I Love Me...Mysel...|       0.0|        female|\n",
      "|815756700|  male|Head Chef, Chez B...|       0.0|        female|\n",
      "|815756642| brand|Reviews of delect...|       0.0|        female|\n",
      "|815756542| brand|When families go ...|       1.0|          male|\n",
      "|815756417|  male|Houston Chronicle...|       0.0|        female|\n",
      "|815756332|female|You can find me w...|       0.0|        female|\n",
      "|815756269| brand|The FUN site for ...|       2.0|         brand|\n",
      "|815756011|female|13 // snapchat: s...|       0.0|        female|\n",
      "|815755887|female|25. love my frien...|       0.0|        female|\n",
      "|815755825| brand|Where Raleigh's d...|       0.0|        female|\n",
      "|815755763|female|cis (she/her)/18/...|       0.0|        female|\n",
      "|815755689|  male|Amicable IT perso...|       1.0|          male|\n",
      "|815755552| brand|Crowdsourcing #In...|       0.0|        female|\n",
      "|815755512| brand|Music,sports,phot...|       1.0|          male|\n",
      "|815755336|female|            **sigh**|       0.0|        female|\n",
      "+---------+------+--------------------+----------+--------------+\n",
      "only showing top 20 rows\n",
      "\n",
      "**** Accuracy Metrics ****\n",
      "Accuracy: 0.552576705392\n",
      "f1_score: 0.515840183316\n",
      "weighted_precesion: 0.618753223483\n",
      "weighted_recall: 0.552576705392\n"
     ]
    }
   ],
   "source": [
    "\n",
    "print(\"**** Prediction on test data with MODEL RandomForestClassifier ****\")\n",
    "predictions.select(\"_unit_id\",\"gender\",\"description\",\"prediction\",\"predictedLabel\").show()\n",
    "\n",
    "print(\"**** Accuracy Metrics ****\")\n",
    "evaluator = MulticlassClassificationEvaluator(\n",
    "    labelCol=\"labels\", predictionCol=\"prediction\")\n",
    "accuracy = evaluator.setMetricName(\"accuracy\").evaluate(predictions)\n",
    "f1_score = evaluator.setMetricName(\"f1\").evaluate(predictions)\n",
    "weighted_precesion = evaluator.setMetricName(\"weightedPrecision\").evaluate(predictions)\n",
    "weighted_recall = evaluator.setMetricName(\"weightedRecall\").evaluate(predictions)\n",
    "\n",
    "\n",
    "print(\"Accuracy: {0}\".format(accuracy))\n",
    "print(\"f1_score: {0}\".format(f1_score))\n",
    "print(\"weighted_precesion: {0}\".format(weighted_precesion))\n",
    "print(\"weighted_recall: {0}\".format(weighted_recall))"
   ]
  },
  {
   "cell_type": "code",
   "execution_count": null,
   "metadata": {},
   "outputs": [],
   "source": []
  }
 ],
 "metadata": {
  "kernelspec": {
   "display_name": "Python 3",
   "language": "python",
   "name": "python3"
  },
  "language_info": {
   "codemirror_mode": {
    "name": "ipython",
    "version": 3
   },
   "file_extension": ".py",
   "mimetype": "text/x-python",
   "name": "python",
   "nbconvert_exporter": "python",
   "pygments_lexer": "ipython3",
   "version": "3.8.3"
  }
 },
 "nbformat": 4,
 "nbformat_minor": 2
}
