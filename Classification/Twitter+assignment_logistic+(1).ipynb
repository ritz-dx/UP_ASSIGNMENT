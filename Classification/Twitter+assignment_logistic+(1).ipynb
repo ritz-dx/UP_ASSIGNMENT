{
 "cells": [
  {
   "cell_type": "code",
   "execution_count": 2,
   "metadata": {},
   "outputs": [
    {
     "data": {
      "text/html": [
       "\n",
       "        <div>\n",
       "            <p><b>SparkContext</b></p>\n",
       "\n",
       "            <p><a href=\"http://ip-10-0-0-165.ec2.internal:4041\">Spark UI</a></p>\n",
       "\n",
       "            <dl>\n",
       "              <dt>Version</dt>\n",
       "                <dd><code>v2.3.0.cloudera2</code></dd>\n",
       "              <dt>Master</dt>\n",
       "                <dd><code>yarn-client</code></dd>\n",
       "              <dt>AppName</dt>\n",
       "                <dd><code>jupyter_Spark</code></dd>\n",
       "            </dl>\n",
       "        </div>\n",
       "        "
      ],
      "text/plain": [
       "<SparkContext master=yarn-client appName=jupyter_Spark>"
      ]
     },
     "execution_count": 2,
     "metadata": {},
     "output_type": "execute_result"
    }
   ],
   "source": [
    "from pyspark import SparkContext, SparkConf\n",
    "conf = SparkConf().setAppName(\"jupyter_Spark\").setMaster(\"yarn-client\")\n",
    "sc = SparkContext(conf=conf)\n",
    "sc"
   ]
  },
  {
   "cell_type": "code",
   "execution_count": 3,
   "metadata": {},
   "outputs": [],
   "source": [
    "from pyspark.sql import SparkSession\n",
    "from pyspark.sql.functions import col\n",
    "from pyspark.ml.feature import StringIndexer, IndexToString\n",
    "from pyspark.ml.feature import RegexTokenizer\n",
    "from pyspark.ml.feature import StopWordsRemover\n",
    "from pyspark.sql.functions import desc\n",
    "from pyspark.ml.feature import HashingTF, IDF\n",
    "from pyspark.ml.classification import LogisticRegression\n",
    "from pyspark.ml import Pipeline\n",
    "from pyspark.ml.evaluation import MulticlassClassificationEvaluator"
   ]
  },
  {
   "cell_type": "code",
   "execution_count": 4,
   "metadata": {},
   "outputs": [],
   "source": [
    "spark = SparkSession.builder.appName('twitter').getOrCreate()\n"
   ]
  },
  {
   "cell_type": "code",
   "execution_count": 5,
   "metadata": {},
   "outputs": [],
   "source": [
    "# Remember to add your s3 bucket name where you have uploaded the dataset\n",
    "df = spark.read \\\n",
    "\t.format(\"csv\") \\\n",
    " \t.option(\"header\",\"true\") \\\n",
    " \t.option(\"mode\", \"DROPMALFORMED\") \\\n",
    " \t.option(\"inferSchema\", \"true\") \\\n",
    " \t.load(\"s3a://..your bucket name../twitter.csv\")"
   ]
  },
  {
   "cell_type": "code",
   "execution_count": 6,
   "metadata": {},
   "outputs": [
    {
     "name": "stdout",
     "output_type": "stream",
     "text": [
      "Rows count : 17426\n"
     ]
    }
   ],
   "source": [
    "# count after drop malformed records\n",
    "print(\"Rows count : {0}\".format(df.count()))"
   ]
  },
  {
   "cell_type": "code",
   "execution_count": 7,
   "metadata": {},
   "outputs": [
    {
     "name": "stdout",
     "output_type": "stream",
     "text": [
      "+---------+-------+-----------+------------------+-----------------+-------+-----------------+----------+---------------------+--------------+--------------------+----------+-----------+----------+---------------+---------------+--------------------+-------------+-------------+--------------------+-----------+-----------+--------------+----------+--------------------+--------------------+\n",
      "| _unit_id|_golden|_unit_state|_trusted_judgments|_last_judgment_at| gender|gender:confidence|profile_yn|profile_yn:confidence|       created|         description|fav_number|gender_gold|link_color|           name|profile_yn_gold|        profileimage|retweet_count|sidebar_color|                text|tweet_coord|tweet_count| tweet_created|  tweet_id|      tweet_location|       user_timezone|\n",
      "+---------+-------+-----------+------------------+-----------------+-------+-----------------+----------+---------------------+--------------+--------------------+----------+-----------+----------+---------------+---------------+--------------------+-------------+-------------+--------------------+-----------+-----------+--------------+----------+--------------------+--------------------+\n",
      "|815719226|  FALSE|  finalized|                 3|   10/26/15 23:24|   male|                1|       yes|                    1|  12/5/13 1:48|i sing my own rhy...|         0|       null|    08C2C2|        sheezy0|           null|https://pbs.twimg...|            0|       FFFFFF|Robbie E Responds...|       null|     110964|10/26/15 12:40|6.5873E+17|     main; @Kan1shk3|             Chennai|\n",
      "|815719227|  FALSE|  finalized|                 3|   10/26/15 23:30|   male|                1|       yes|                    1| 10/1/12 13:51|I'm the author of...|        68|       null|    0084B4|    DavdBurnett|           null|https://pbs.twimg...|            0|       C0DEED|���It felt like t...|       null|       7471|10/26/15 12:40|6.5873E+17|                null|Eastern Time (US ...|\n",
      "|815719228|  FALSE|  finalized|                 3|   10/26/15 23:33|   male|           0.6625|       yes|                    1|11/28/14 11:30|louis whining and...|      7696|       null|    ABB8C2| lwtprettylaugh|           null|https://pbs.twimg...|            1|       C0DEED|i absolutely ador...|       null|       5617|10/26/15 12:40|6.5873E+17|              clcncl|            Belgrade|\n",
      "|815719229|  FALSE|  finalized|                 3|   10/26/15 23:10|   male|                1|       yes|                    1| 6/11/09 22:39|Mobile guy.  49er...|       202|       null|    0084B4|    douggarland|           null|https://pbs.twimg...|            0|       C0DEED|Hi @JordanSpieth ...|       null|       1693|10/26/15 12:40|6.5873E+17|       Palo Alto, CA|Pacific Time (US ...|\n",
      "|815719230|  FALSE|  finalized|                 3|    10/27/15 1:15| female|                1|       yes|                    1| 4/16/14 13:23|Ricky Wilson The ...|     37318|       null|    3B94D9|   WilfordGemma|           null|https://pbs.twimg...|            0|            0|Watching Neighbou...|       null|      31462|10/26/15 12:40|6.5873E+17|                null|                null|\n",
      "|815719231|  FALSE|  finalized|                 3|    10/27/15 1:47| female|                1|       yes|                    1| 3/11/10 18:14|  you don't know me.|      3901|       null|    F5ABB5|  monroevicious|           null|https://pbs.twimg...|            0|            0|Ive seen people o...|       null|      20036|10/26/15 12:40|6.5873E+17|     New York Gritty|Central Time (US ...|\n",
      "|815719232|  FALSE|  finalized|                 3|    10/27/15 1:57|  brand|                1|       yes|                    1| 4/24/08 13:03|A global marketpl...|      4122|       null|    298AAE|   Shutterstock|           null|https://pbs.twimg...|            0|            0|@BpackEngineer Th...|       null|      13354|10/26/15 12:40|6.5873E+17|           Worldwide|Eastern Time (US ...|\n",
      "|815719233|  FALSE|  finalized|                 3|   10/26/15 23:48|   male|                1|       yes|                    1| 12/3/12 21:54|The secret of get...|        80|       null|    0000FF|     RobinMeske|           null|https://pbs.twimg...|            0|       C0DEED|Gala Bingo clubs ...|       null|     112117|10/26/15 12:40|6.5873E+17|                null|                null|\n",
      "|815719234|  FALSE|  finalized|                 3|    10/27/15 1:52| female|                1|       yes|                    1|   9/8/15 4:50|Pll Fan // Crazy ...|      1825|       null|    9266CC|      pigzilla_|           null|https://pbs.twimg...|            0|            0|@_Aphmau_ the pic...|       null|        482|10/26/15 12:40|6.5873E+17|                null|                null|\n",
      "|815719235|  FALSE|  finalized|                 3|    10/27/15 1:49| female|                1|       yes|                    1|  5/13/11 3:32|Renaissance art h...|      3115|       null|    9266CC|  GabrieleNeher|           null|https://pbs.twimg...|            0|       FFFFFF|@Evielady just ho...|       null|      26085|10/26/15 12:40|6.5873E+17|Nottingham, England.|           Amsterdam|\n",
      "|815719236|  FALSE|  finalized|                 3|   10/26/15 23:17|  brand|           0.7002|       yes|                    1|11/16/11 17:14|Clean food that t...|       516|       null|    0084B4|  Blissful_Eats|           null|https://pbs.twimg...|            0|       C0DEED|how are you takin...|       null|       5179|10/26/15 12:40|6.5873E+17|            New York|Atlantic Time (Ca...|\n",
      "|815719237|  FALSE|  finalized|                 3|   10/26/15 22:33|  brand|                1|       yes|                    1| 2/22/15 20:06|highly extraordin...|         0|       null|    0084B4|   eliseotecleo|           null|https://pbs.twimg...|            0|       C0DEED|MTG Deals 1x Rank...|       null|      66684|10/26/15 12:40|6.5873E+17|                null|Pacific Time (US ...|\n",
      "|815719238|  FALSE|  finalized|                 3|   10/26/15 22:20| female|           0.6509|       yes|                    1|  8/10/12 5:05|Senior '16 . XI-X...|      3371|       null|    0084B4| kaylanabrewer_|           null|https://pbs.twimg...|            0|       FFFFFF|Just put my ass o...|       null|      13585|10/26/15 12:40|6.5873E+17|                null|Atlantic Time (Ca...|\n",
      "|815719239|  FALSE|  finalized|                 3|   10/26/15 23:29|  brand|                1|       yes|                    1|  5/1/12 22:14|Come join the fas...|         0|       null|    2FC2EF|  americacredit|           null|https://pbs.twimg...|            0|       181A1E|https://t.co/z4sb...|       null|     199466|10/26/15 12:40|6.5873E+17|      America Credit|Pacific Time (US ...|\n",
      "|815719240|  FALSE|  finalized|                 3|    10/27/15 1:29| female|           0.6501|       yes|                    1|  4/6/13 15:31|im just here for ...|     13928|       null|    0084B4|       cheyflan|           null|https://pbs.twimg...|            0|       FFFFFF|will i even need ...|       null|      18469|10/26/15 12:40|6.5873E+17|      row b seat 104|Atlantic Time (Ca...|\n",
      "|815719241|  FALSE|  finalized|                 3|    10/27/15 1:50| female|                1|       yes|                    1| 10/3/15 21:32|                null|         0|       null|    0084B4|      Ayu7sith4|           null|https://pbs.twimg...|            0|       C0DEED|https://t.co/EROG...|       null|      44421|10/26/15 12:40|6.5873E+17|                null|                null|\n",
      "|815719242|  FALSE|  finalized|                 3|   10/26/15 23:43| female|                1|       yes|                    1|  8/27/11 9:42|           JMKM�_ҕ��|      1762|       null|     58185|   Toucaan_Samm|           null|https://pbs.twimg...|            0|       EEEEEE|@giannaaa28 lmao ...|       null|      16627|10/26/15 12:40|6.5873E+17|                null|             Arizona|\n",
      "|815719243|  FALSE|  finalized|                 3|   10/26/15 22:50|   male|                1|       yes|                    1|10/18/09 11:41|Over enthusiastic...|         5|       null|    0084B4|     SSmyth2010|           null|https://pbs.twimg...|            0|       C0DEED|@coolyazzy94 Ditt...|       null|         91|10/26/15 12:40|6.5873E+17|             Glasgow|              London|\n",
      "|815719244|  FALSE|  finalized|                 3|    10/27/15 1:42|   male|                1|       yes|                    1| 7/20/15 12:01|                null|         1|       null|    0084B4|DarkToonsGaming|           null|https://pbs.twimg...|            0|       C0DEED|@CaribBros @JstSa...|       null|         13|10/26/15 12:40|6.5873E+17|                null|                null|\n",
      "|815719245|  FALSE|  finalized|                 3|   10/26/15 22:19|unknown|           0.3527|       yes|                    1|  1/30/15 9:52|                null|       160|       null|    0084B4|    GourlayLynn|           null|https://pbs.twimg...|            0|            0|Me too, saw five ...|       null|       2398|10/26/15 12:40|6.5873E+17|                null|                null|\n",
      "+---------+-------+-----------+------------------+-----------------+-------+-----------------+----------+---------------------+--------------+--------------------+----------+-----------+----------+---------------+---------------+--------------------+-------------+-------------+--------------------+-----------+-----------+--------------+----------+--------------------+--------------------+\n",
      "only showing top 20 rows\n",
      "\n"
     ]
    }
   ],
   "source": [
    "df.show()"
   ]
  },
  {
   "cell_type": "code",
   "execution_count": 8,
   "metadata": {},
   "outputs": [],
   "source": [
    "df = df.filter(col(\"gender\").isin(['male','female','brand'])).select(\"_unit_id\",\"gender\",\"description\")\n"
   ]
  },
  {
   "cell_type": "code",
   "execution_count": 9,
   "metadata": {},
   "outputs": [
    {
     "name": "stdout",
     "output_type": "stream",
     "text": [
      "+---------+------+--------------------+\n",
      "| _unit_id|gender|         description|\n",
      "+---------+------+--------------------+\n",
      "|815719226|  male|i sing my own rhy...|\n",
      "|815719227|  male|I'm the author of...|\n",
      "|815719228|  male|louis whining and...|\n",
      "|815719229|  male|Mobile guy.  49er...|\n",
      "|815719230|female|Ricky Wilson The ...|\n",
      "|815719231|female|  you don't know me.|\n",
      "|815719232| brand|A global marketpl...|\n",
      "|815719233|  male|The secret of get...|\n",
      "|815719234|female|Pll Fan // Crazy ...|\n",
      "|815719235|female|Renaissance art h...|\n",
      "|815719236| brand|Clean food that t...|\n",
      "|815719237| brand|highly extraordin...|\n",
      "|815719238|female|Senior '16 . XI-X...|\n",
      "|815719239| brand|Come join the fas...|\n",
      "|815719240|female|im just here for ...|\n",
      "|815719241|female|                null|\n",
      "|815719242|female|           JMKM�_ҕ��|\n",
      "|815719243|  male|Over enthusiastic...|\n",
      "|815719244|  male|                null|\n",
      "|815719246|female|Artisan specializ...|\n",
      "+---------+------+--------------------+\n",
      "only showing top 20 rows\n",
      "\n"
     ]
    }
   ],
   "source": [
    "df.show()"
   ]
  },
  {
   "cell_type": "code",
   "execution_count": 10,
   "metadata": {},
   "outputs": [
    {
     "name": "stdout",
     "output_type": "stream",
     "text": [
      "Rows count after filtering unknown gender: 16412\n"
     ]
    }
   ],
   "source": [
    "# count after drop malformed records\n",
    "print(\"Rows count after filtering unknown gender: {0}\".format(df.count()))"
   ]
  },
  {
   "cell_type": "code",
   "execution_count": 11,
   "metadata": {},
   "outputs": [
    {
     "name": "stdout",
     "output_type": "stream",
     "text": [
      "Rows count per gender\n",
      "+------+-----+\n",
      "|gender|count|\n",
      "+------+-----+\n",
      "|female| 5867|\n",
      "| brand| 5175|\n",
      "|  male| 5370|\n",
      "+------+-----+\n",
      "\n"
     ]
    }
   ],
   "source": [
    "print(\"Rows count per gender\")\n",
    "df.groupby(\"gender\").count().show()"
   ]
  },
  {
   "cell_type": "code",
   "execution_count": 12,
   "metadata": {},
   "outputs": [
    {
     "name": "stdout",
     "output_type": "stream",
     "text": [
      "**** RAW dataframe ****\n",
      "+---------+------+--------------------+\n",
      "| _unit_id|gender|         description|\n",
      "+---------+------+--------------------+\n",
      "|815719226|  male|i sing my own rhy...|\n",
      "|815719227|  male|I'm the author of...|\n",
      "|815719228|  male|louis whining and...|\n",
      "|815719229|  male|Mobile guy.  49er...|\n",
      "|815719230|female|Ricky Wilson The ...|\n",
      "|815719231|female|  you don't know me.|\n",
      "|815719232| brand|A global marketpl...|\n",
      "|815719233|  male|The secret of get...|\n",
      "|815719234|female|Pll Fan // Crazy ...|\n",
      "|815719235|female|Renaissance art h...|\n",
      "|815719236| brand|Clean food that t...|\n",
      "|815719237| brand|highly extraordin...|\n",
      "|815719238|female|Senior '16 . XI-X...|\n",
      "|815719239| brand|Come join the fas...|\n",
      "|815719240|female|im just here for ...|\n",
      "|815719242|female|           JMKM�_ҕ��|\n",
      "|815719243|  male|Over enthusiastic...|\n",
      "|815719246|female|Artisan specializ...|\n",
      "|815719247|female|He bled and died ...|\n",
      "|815719248|female|        union j xxxx|\n",
      "+---------+------+--------------------+\n",
      "only showing top 20 rows\n",
      "\n"
     ]
    }
   ],
   "source": [
    "final_df = df.filter(col(\"description\").isNotNull())\n",
    "print(\"**** RAW dataframe ****\")\n",
    "final_df.show()"
   ]
  },
  {
   "cell_type": "code",
   "execution_count": 13,
   "metadata": {},
   "outputs": [
    {
     "name": "stdout",
     "output_type": "stream",
     "text": [
      "Rows count after filtering invalid description: 13431\n"
     ]
    }
   ],
   "source": [
    "# count after drop malformed records\n",
    "print(\"Rows count after filtering invalid description: {0}\".format(final_df.count()))"
   ]
  },
  {
   "cell_type": "code",
   "execution_count": 14,
   "metadata": {},
   "outputs": [],
   "source": [
    "indexer = StringIndexer(inputCol=\"gender\", outputCol=\"labels\").fit(final_df)"
   ]
  },
  {
   "cell_type": "code",
   "execution_count": 15,
   "metadata": {},
   "outputs": [],
   "source": [
    "indexed = indexer.transform(final_df)"
   ]
  },
  {
   "cell_type": "code",
   "execution_count": 16,
   "metadata": {},
   "outputs": [
    {
     "name": "stdout",
     "output_type": "stream",
     "text": [
      "**** RAW dataframe with String indexer ****\n",
      "+---------+------+--------------------+------+\n",
      "| _unit_id|gender|         description|labels|\n",
      "+---------+------+--------------------+------+\n",
      "|815719226|  male|i sing my own rhy...|   1.0|\n",
      "|815719227|  male|I'm the author of...|   1.0|\n",
      "|815719228|  male|louis whining and...|   1.0|\n",
      "|815719229|  male|Mobile guy.  49er...|   1.0|\n",
      "|815719230|female|Ricky Wilson The ...|   0.0|\n",
      "|815719231|female|  you don't know me.|   0.0|\n",
      "|815719232| brand|A global marketpl...|   2.0|\n",
      "|815719233|  male|The secret of get...|   1.0|\n",
      "|815719234|female|Pll Fan // Crazy ...|   0.0|\n",
      "|815719235|female|Renaissance art h...|   0.0|\n",
      "|815719236| brand|Clean food that t...|   2.0|\n",
      "|815719237| brand|highly extraordin...|   2.0|\n",
      "|815719238|female|Senior '16 . XI-X...|   0.0|\n",
      "|815719239| brand|Come join the fas...|   2.0|\n",
      "|815719240|female|im just here for ...|   0.0|\n",
      "|815719242|female|           JMKM�_ҕ��|   0.0|\n",
      "|815719243|  male|Over enthusiastic...|   1.0|\n",
      "|815719246|female|Artisan specializ...|   0.0|\n",
      "|815719247|female|He bled and died ...|   0.0|\n",
      "|815719248|female|        union j xxxx|   0.0|\n",
      "+---------+------+--------------------+------+\n",
      "only showing top 20 rows\n",
      "\n"
     ]
    }
   ],
   "source": [
    "print(\"**** RAW dataframe with String indexer ****\")\n",
    "indexed.show()"
   ]
  },
  {
   "cell_type": "code",
   "execution_count": 17,
   "metadata": {},
   "outputs": [],
   "source": [
    "TOTAL = indexed.count()\n",
    "TRAIN = 0.75\n",
    "TEST = 0.25"
   ]
  },
  {
   "cell_type": "code",
   "execution_count": 18,
   "metadata": {},
   "outputs": [],
   "source": [
    "train = indexed.limit(int(TOTAL*TRAIN))\n",
    "test = indexed.orderBy(desc(\"_unit_id\")).limit(int(TOTAL*TEST))"
   ]
  },
  {
   "cell_type": "code",
   "execution_count": 19,
   "metadata": {},
   "outputs": [
    {
     "name": "stdout",
     "output_type": "stream",
     "text": [
      "Total data count 13431\n",
      "Training data count 10073\n",
      "Test data count 3357\n"
     ]
    }
   ],
   "source": [
    "print(\"Total data count {0}\".format(TOTAL))\n",
    "print(\"Training data count {0}\".format(train.count()))\n",
    "print(\"Test data count {0}\".format(test.count()))"
   ]
  },
  {
   "cell_type": "code",
   "execution_count": 20,
   "metadata": {},
   "outputs": [],
   "source": [
    "regexTokenizer = RegexTokenizer(inputCol=\"description\", outputCol=\"words\", pattern=\"\\\\W\")\n"
   ]
  },
  {
   "cell_type": "code",
   "execution_count": 21,
   "metadata": {},
   "outputs": [],
   "source": [
    "regexTokenized = regexTokenizer.transform(train)"
   ]
  },
  {
   "cell_type": "code",
   "execution_count": 22,
   "metadata": {},
   "outputs": [
    {
     "name": "stdout",
     "output_type": "stream",
     "text": [
      "**** RAW dataframe with tokenized ****\n",
      "+---------+------+--------------------+------+--------------------+\n",
      "| _unit_id|gender|         description|labels|               words|\n",
      "+---------+------+--------------------+------+--------------------+\n",
      "|815734717|  male|28 | Murabb��-e S...|   1.0|[28, murabb, e, s...|\n",
      "|815734719| brand|Serving Chapel Hi...|   2.0|[serving, chapel,...|\n",
      "|815734722|female|Life Motto: There...|   0.0|[life, motto, the...|\n",
      "|815734724| brand|           HOT DEALS|   2.0|        [hot, deals]|\n",
      "|815734726|female|Child carny turne...|   0.0|[child, carny, tu...|\n",
      "|815734728|female|            #ripnate|   0.0|           [ripnate]|\n",
      "|815734729|  male|20, Florida Inter...|   1.0|[20, florida, int...|\n",
      "|815734732|  male|Ohio University s...|   1.0|[ohio, university...|\n",
      "|815734733|female|hey im alexis , i...|   0.0|[hey, im, alexis,...|\n",
      "|815734734|  male|       never give up|   1.0|   [never, give, up]|\n",
      "|815734735|female|It ain't always s...|   0.0|[it, ain, t, alwa...|\n",
      "|815734737|  male|Minister of Conse...|   1.0|[minister, of, co...|\n",
      "|815734740|female|I'm obsessed with...|   0.0|[i, m, obsessed, ...|\n",
      "|815734741|  male|Tweets by Jason, ...|   1.0|[tweets, by, jaso...|\n",
      "|815734742| brand|Steen Promotions,...|   2.0|[steen, promotion...|\n",
      "|815734743|female|4everliveAJJ // JUGG|   0.0|[4everliveajj, jugg]|\n",
      "|815734744|  male|If it don't make ...|   1.0|[if, it, don, t, ...|\n",
      "|815734747|female|a scrub wearing s...|   0.0|[a, scrub, wearin...|\n",
      "|815734748|female|mimi | she/her | ...|   0.0|[mimi, she, her, ...|\n",
      "|815734750|female|We live in a KATH...|   0.0|[we, live, in, a,...|\n",
      "+---------+------+--------------------+------+--------------------+\n",
      "only showing top 20 rows\n",
      "\n"
     ]
    }
   ],
   "source": [
    "print(\"**** RAW dataframe with tokenized ****\")\n",
    "regexTokenized.show()\n"
   ]
  },
  {
   "cell_type": "code",
   "execution_count": 23,
   "metadata": {},
   "outputs": [],
   "source": [
    "stop_words_remover = StopWordsRemover(inputCol=\"words\", outputCol=\"filtered_words\")"
   ]
  },
  {
   "cell_type": "code",
   "execution_count": 24,
   "metadata": {},
   "outputs": [],
   "source": [
    "removed = stop_words_remover.transform(regexTokenized)"
   ]
  },
  {
   "cell_type": "code",
   "execution_count": 25,
   "metadata": {},
   "outputs": [
    {
     "name": "stdout",
     "output_type": "stream",
     "text": [
      "**** RAW dataframe after emoving stop words ****\n",
      "+---------+------+--------------------+------+--------------------+--------------------+\n",
      "| _unit_id|gender|         description|labels|               words|      filtered_words|\n",
      "+---------+------+--------------------+------+--------------------+--------------------+\n",
      "|815734717|  male|28 | Murabb��-e S...|   1.0|[28, murabb, e, s...|[28, murabb, e, s...|\n",
      "|815734719| brand|Serving Chapel Hi...|   2.0|[serving, chapel,...|[serving, chapel,...|\n",
      "|815734722|female|Life Motto: There...|   0.0|[life, motto, the...|[life, motto, thi...|\n",
      "|815734724| brand|           HOT DEALS|   2.0|        [hot, deals]|        [hot, deals]|\n",
      "|815734726|female|Child carny turne...|   0.0|[child, carny, tu...|[child, carny, tu...|\n",
      "|815734728|female|            #ripnate|   0.0|           [ripnate]|           [ripnate]|\n",
      "|815734729|  male|20, Florida Inter...|   1.0|[20, florida, int...|[20, florida, int...|\n",
      "|815734732|  male|Ohio University s...|   1.0|[ohio, university...|[ohio, university...|\n",
      "|815734733|female|hey im alexis , i...|   0.0|[hey, im, alexis,...|[hey, im, alexis,...|\n",
      "|815734734|  male|       never give up|   1.0|   [never, give, up]|       [never, give]|\n",
      "|815734735|female|It ain't always s...|   0.0|[it, ain, t, alwa...|[ain, always, sun...|\n",
      "|815734737|  male|Minister of Conse...|   1.0|[minister, of, co...|[minister, conser...|\n",
      "|815734740|female|I'm obsessed with...|   0.0|[i, m, obsessed, ...|[m, obsessed, act...|\n",
      "|815734741|  male|Tweets by Jason, ...|   1.0|[tweets, by, jaso...|[tweets, jason, t...|\n",
      "|815734742| brand|Steen Promotions,...|   2.0|[steen, promotion...|[steen, promotion...|\n",
      "|815734743|female|4everliveAJJ // JUGG|   0.0|[4everliveajj, jugg]|[4everliveajj, jugg]|\n",
      "|815734744|  male|If it don't make ...|   1.0|[if, it, don, t, ...|[make, money, mak...|\n",
      "|815734747|female|a scrub wearing s...|   0.0|[a, scrub, wearin...|[scrub, wearing, ...|\n",
      "|815734748|female|mimi | she/her | ...|   0.0|[mimi, she, her, ...|[mimi, pisces, um...|\n",
      "|815734750|female|We live in a KATH...|   0.0|[we, live, in, a,...|[live, kathniel, ...|\n",
      "+---------+------+--------------------+------+--------------------+--------------------+\n",
      "only showing top 20 rows\n",
      "\n"
     ]
    }
   ],
   "source": [
    "print(\"**** RAW dataframe after emoving stop words ****\")\n",
    "removed.show()"
   ]
  },
  {
   "cell_type": "code",
   "execution_count": 26,
   "metadata": {},
   "outputs": [],
   "source": [
    "hashing_tf = HashingTF(inputCol=\"filtered_words\", outputCol=\"raw_features\").setNumFeatures(11000)"
   ]
  },
  {
   "cell_type": "code",
   "execution_count": 27,
   "metadata": {},
   "outputs": [
    {
     "name": "stdout",
     "output_type": "stream",
     "text": [
      "+---------+------+--------------------+------+--------------------+--------------------+--------------------+\n",
      "| _unit_id|gender|         description|labels|               words|      filtered_words|        raw_features|\n",
      "+---------+------+--------------------+------+--------------------+--------------------+--------------------+\n",
      "|815734717|  male|28 | Murabb��-e S...|   1.0|[28, murabb, e, s...|[28, murabb, e, s...|(11000,[191,1405,...|\n",
      "|815734719| brand|Serving Chapel Hi...|   2.0|[serving, chapel,...|[serving, chapel,...|(11000,[2027,2490...|\n",
      "|815734722|female|Life Motto: There...|   0.0|[life, motto, the...|[life, motto, thi...|(11000,[1086,4675...|\n",
      "|815734724| brand|           HOT DEALS|   2.0|        [hot, deals]|        [hot, deals]|(11000,[4231,8937...|\n",
      "|815734726|female|Child carny turne...|   0.0|[child, carny, tu...|[child, carny, tu...|(11000,[361,1735,...|\n",
      "|815734728|female|            #ripnate|   0.0|           [ripnate]|           [ripnate]|(11000,[3149],[1.0])|\n",
      "|815734729|  male|20, Florida Inter...|   1.0|[20, florida, int...|[20, florida, int...|(11000,[591,1106,...|\n",
      "|815734732|  male|Ohio University s...|   1.0|[ohio, university...|[ohio, university...|(11000,[1260,1725...|\n",
      "|815734733|female|hey im alexis , i...|   0.0|[hey, im, alexis,...|[hey, im, alexis,...|(11000,[1427,1682...|\n",
      "|815734734|  male|       never give up|   1.0|   [never, give, up]|       [never, give]|(11000,[1126,6783...|\n",
      "|815734735|female|It ain't always s...|   0.0|[it, ain, t, alwa...|[ain, always, sun...|(11000,[22,840,80...|\n",
      "|815734737|  male|Minister of Conse...|   1.0|[minister, of, co...|[minister, conser...|(11000,[105,1014,...|\n",
      "|815734740|female|I'm obsessed with...|   0.0|[i, m, obsessed, ...|[m, obsessed, act...|(11000,[474,1672,...|\n",
      "|815734741|  male|Tweets by Jason, ...|   1.0|[tweets, by, jaso...|[tweets, jason, t...|(11000,[520,926,3...|\n",
      "|815734742| brand|Steen Promotions,...|   2.0|[steen, promotion...|[steen, promotion...|(11000,[4047,4993...|\n",
      "|815734743|female|4everliveAJJ // JUGG|   0.0|[4everliveajj, jugg]|[4everliveajj, jugg]|(11000,[6658,8420...|\n",
      "|815734744|  male|If it don't make ...|   1.0|[if, it, don, t, ...|[make, money, mak...|(11000,[3005,6242...|\n",
      "|815734747|female|a scrub wearing s...|   0.0|[a, scrub, wearin...|[scrub, wearing, ...|(11000,[113,1494,...|\n",
      "|815734748|female|mimi | she/her | ...|   0.0|[mimi, she, her, ...|[mimi, pisces, um...|(11000,[2772,3062...|\n",
      "|815734750|female|We live in a KATH...|   0.0|[we, live, in, a,...|[live, kathniel, ...|(11000,[493,3746,...|\n",
      "+---------+------+--------------------+------+--------------------+--------------------+--------------------+\n",
      "only showing top 20 rows\n",
      "\n"
     ]
    }
   ],
   "source": [
    "ht_df = hashing_tf.transform(removed)\n",
    "ht_df.show()"
   ]
  },
  {
   "cell_type": "code",
   "execution_count": 28,
   "metadata": {},
   "outputs": [],
   "source": [
    "idf = IDF(inputCol=\"raw_features\", outputCol=\"features\")"
   ]
  },
  {
   "cell_type": "code",
   "execution_count": 29,
   "metadata": {},
   "outputs": [],
   "source": [
    "idfmodel = idf.fit(ht_df)\n",
    "idf_df = idfmodel.transform(ht_df)"
   ]
  },
  {
   "cell_type": "code",
   "execution_count": 30,
   "metadata": {},
   "outputs": [
    {
     "name": "stdout",
     "output_type": "stream",
     "text": [
      "**** RAW dataframe after adding idf and hashingtf ****\n",
      "+---------+------+--------------------+------+--------------------+--------------------+--------------------+--------------------+\n",
      "| _unit_id|gender|         description|labels|               words|      filtered_words|        raw_features|            features|\n",
      "+---------+------+--------------------+------+--------------------+--------------------+--------------------+--------------------+\n",
      "|815719226|  male|i sing my own rhy...|   1.0|[i, sing, my, own...|      [sing, rhythm]|(11000,[8809,9451...|(11000,[8809,9451...|\n",
      "|815719227|  male|I'm the author of...|   1.0|[i, m, the, autho...|[m, author, novel...|(11000,[873,978,2...|(11000,[873,978,2...|\n",
      "|815719228|  male|louis whining and...|   1.0|[louis, whining, ...|[louis, whining, ...|(11000,[1000,2314...|(11000,[1000,2314...|\n",
      "|815719229|  male|Mobile guy.  49er...|   1.0|[mobile, guy, 49e...|[mobile, guy, 49e...|(11000,[464,929,9...|(11000,[464,929,9...|\n",
      "|815719230|female|Ricky Wilson The ...|   0.0|[ricky, wilson, t...|[ricky, wilson, b...|(11000,[1040,1215...|(11000,[1040,1215...|\n",
      "|815719231|female|  you don't know me.|   0.0|[you, don, t, kno...|              [know]|(11000,[9779],[1.0])|(11000,[9779],[4....|\n",
      "|815719232| brand|A global marketpl...|   2.0|[a, global, marke...|[global, marketpl...|(11000,[82,1566,1...|(11000,[82,1566,1...|\n",
      "|815719233|  male|The secret of get...|   1.0|[the, secret, of,...|[secret, getting,...|(11000,[6607,7192...|(11000,[6607,7192...|\n",
      "|815719234|female|Pll Fan // Crazy ...|   0.0|[pll, fan, crazy,...|[pll, fan, crazy,...|(11000,[1206,2563...|(11000,[1206,2563...|\n",
      "|815719235|female|Renaissance art h...|   0.0|[renaissance, art...|[renaissance, art...|(11000,[2099,2510...|(11000,[2099,2510...|\n",
      "|815719236| brand|Clean food that t...|   2.0|[clean, food, tha...|[clean, food, tas...|(11000,[96,1260,2...|(11000,[96,1260,2...|\n",
      "|815719237| brand|highly extraordin...|   2.0|[highly, extraord...|[highly, extraord...|(11000,[2012,5408...|(11000,[2012,5408...|\n",
      "|815719238|female|Senior '16 . XI-X...|   0.0|[senior, 16, xi, ...|[senior, 16, xi, ...|(11000,[2991,5808...|(11000,[2991,5808...|\n",
      "|815719239| brand|Come join the fas...|   2.0|[come, join, the,...|[come, join, fast...|(11000,[207,1000,...|(11000,[207,1000,...|\n",
      "|815719240|female|im just here for ...|   0.0|[im, just, here, ...|[im, p, bo, burnh...|(11000,[1682,2503...|(11000,[1682,2503...|\n",
      "|815719242|female|           JMKM�_ҕ��|   0.0|           [jmkm, _]|           [jmkm, _]|(11000,[589,7456]...|(11000,[589,7456]...|\n",
      "|815719243|  male|Over enthusiastic...|   1.0|[over, enthusiast...|[enthusiastic, f1...|(11000,[322,2563,...|(11000,[322,2563,...|\n",
      "|815719246|female|Artisan specializ...|   0.0|[artisan, special...|[artisan, special...|(11000,[827,2233,...|(11000,[827,2233,...|\n",
      "|815719247|female|He bled and died ...|   0.0|[he, bled, and, d...|[bled, died, take...|(11000,[855,2148,...|(11000,[855,2148,...|\n",
      "|815719248|female|        union j xxxx|   0.0|    [union, j, xxxx]|    [union, j, xxxx]|(11000,[3194,5149...|(11000,[3194,5149...|\n",
      "+---------+------+--------------------+------+--------------------+--------------------+--------------------+--------------------+\n",
      "only showing top 20 rows\n",
      "\n"
     ]
    }
   ],
   "source": [
    "print(\"**** RAW dataframe after adding idf and hashingtf ****\")\n",
    "idf_df.show()"
   ]
  },
  {
   "cell_type": "code",
   "execution_count": 31,
   "metadata": {},
   "outputs": [],
   "source": [
    "rf = LogisticRegression(\n",
    "\t\tlabelCol=\"labels\", \n",
    "\t\tfeaturesCol=\"features\",\n",
    "\t\tmaxIter=30, \n",
    "\t\tregParam=0.4, \n",
    "\t\telasticNetParam=0.8)"
   ]
  },
  {
   "cell_type": "code",
   "execution_count": 32,
   "metadata": {},
   "outputs": [],
   "source": [
    "labelConverter = IndexToString(inputCol=\"prediction\", outputCol=\"predictedLabel\",\n",
    "                               labels=indexer.labels)"
   ]
  },
  {
   "cell_type": "code",
   "execution_count": 33,
   "metadata": {},
   "outputs": [],
   "source": [
    "pipeline = Pipeline(stages=[regexTokenizer, stop_words_remover, hashing_tf, idf, rf, labelConverter])"
   ]
  },
  {
   "cell_type": "code",
   "execution_count": 34,
   "metadata": {},
   "outputs": [],
   "source": [
    "# Train model.  This also runs the indexers.\n",
    "model = pipeline.fit(train)\n"
   ]
  },
  {
   "cell_type": "code",
   "execution_count": 35,
   "metadata": {},
   "outputs": [
    {
     "name": "stdout",
     "output_type": "stream",
     "text": [
      "**** Prediction on test data with LogisticRegression Model ****\n",
      "+---------+------+--------------------+----------+--------------+\n",
      "| _unit_id|gender|         description|prediction|predictedLabel|\n",
      "+---------+------+--------------------+----------+--------------+\n",
      "|815757985|female|Teamwork makes th...|       0.0|        female|\n",
      "|815757921|female|Anti-statist; I h...|       0.0|        female|\n",
      "|815757830|  male|#TeamBarcelona .....|       0.0|        female|\n",
      "|815757681|  male|Whatever you like...|       0.0|        female|\n",
      "|815757572|female|                (rp)|       0.0|        female|\n",
      "|815756767|female|I Love Me...Mysel...|       0.0|        female|\n",
      "|815756700|  male|Head Chef, Chez B...|       0.0|        female|\n",
      "|815756642| brand|Reviews of delect...|       0.0|        female|\n",
      "|815756542| brand|When families go ...|       0.0|        female|\n",
      "|815756417|  male|Houston Chronicle...|       0.0|        female|\n",
      "|815756332|female|You can find me w...|       0.0|        female|\n",
      "|815756269| brand|The FUN site for ...|       0.0|        female|\n",
      "|815756011|female|13 // snapchat: s...|       0.0|        female|\n",
      "|815755887|female|25. love my frien...|       0.0|        female|\n",
      "|815755825| brand|Where Raleigh's d...|       0.0|        female|\n",
      "|815755763|female|cis (she/her)/18/...|       0.0|        female|\n",
      "|815755689|  male|Amicable IT perso...|       0.0|        female|\n",
      "|815755552| brand|Crowdsourcing #In...|       0.0|        female|\n",
      "|815755512| brand|Music,sports,phot...|       0.0|        female|\n",
      "|815755336|female|            **sigh**|       0.0|        female|\n",
      "+---------+------+--------------------+----------+--------------+\n",
      "only showing top 20 rows\n",
      "\n"
     ]
    }
   ],
   "source": [
    "# Make predictions.\n",
    "predictions = model.transform(test)\n",
    "print(\"**** Prediction on test data with LogisticRegression Model ****\")\n",
    "predictions.select(\"_unit_id\",\"gender\",\"description\",\"prediction\",\"predictedLabel\").show()"
   ]
  },
  {
   "cell_type": "code",
   "execution_count": 36,
   "metadata": {},
   "outputs": [],
   "source": [
    "evaluator = MulticlassClassificationEvaluator(\n",
    "    labelCol=\"labels\", predictionCol=\"prediction\")\n",
    "accuracy = evaluator.setMetricName(\"accuracy\").evaluate(predictions)\n",
    "f1_score = evaluator.setMetricName(\"f1\").evaluate(predictions)\n",
    "weighted_precesion = evaluator.setMetricName(\"weightedPrecision\").evaluate(predictions)\n",
    "weighted_recall = evaluator.setMetricName(\"weightedRecall\").evaluate(predictions)"
   ]
  },
  {
   "cell_type": "code",
   "execution_count": 37,
   "metadata": {},
   "outputs": [
    {
     "name": "stdout",
     "output_type": "stream",
     "text": [
      "**** Accuracy Metrics ****\n",
      "Accuracy: 0.422996723265\n",
      "f1_score: 0.251478060304\n",
      "weighted_precesion: 0.178926227893\n",
      "weighted_recall: 0.422996723265\n"
     ]
    }
   ],
   "source": [
    "print(\"**** Accuracy Metrics ****\")\n",
    "print(\"Accuracy: {0}\".format(accuracy))\n",
    "print(\"f1_score: {0}\".format(f1_score))\n",
    "print(\"weighted_precesion: {0}\".format(weighted_precesion))\n",
    "print(\"weighted_recall: {0}\".format(weighted_recall))"
   ]
  },
  {
   "cell_type": "code",
   "execution_count": null,
   "metadata": {},
   "outputs": [],
   "source": []
  }
 ],
 "metadata": {
  "kernelspec": {
   "display_name": "Python 2",
   "language": "python",
   "name": "python2"
  },
  "language_info": {
   "codemirror_mode": {
    "name": "ipython",
    "version": 2
   },
   "file_extension": ".py",
   "mimetype": "text/x-python",
   "name": "python",
   "nbconvert_exporter": "python",
   "pygments_lexer": "ipython2",
   "version": "2.7.16"
  }
 },
 "nbformat": 4,
 "nbformat_minor": 2
}
